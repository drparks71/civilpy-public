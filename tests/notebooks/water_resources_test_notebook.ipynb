{
 "cells": [
  {
   "cell_type": "markdown",
   "metadata": {
    "tags": []
   },
   "source": [
    "### Density"
   ]
  },
  {
   "cell_type": "code",
   "execution_count": 1,
   "metadata": {},
   "outputs": [],
   "source": [
    "import os\n",
    "import sys\n",
    "module_path = os.path.abspath(os.path.join('..\\\\..'))\n",
    "if module_path not in sys.path:\n",
    "    sys.path.append(module_path)"
   ]
  },
  {
   "cell_type": "code",
   "execution_count": 2,
   "metadata": {},
   "outputs": [],
   "source": [
    "import civilpy"
   ]
  },
  {
   "cell_type": "code",
   "execution_count": 3,
   "metadata": {},
   "outputs": [
    {
     "data": {
      "text/html": [
       "1.938 slug/foot<sup>3</sup>"
      ],
      "text/latex": [
       "$1.938\\ \\frac{\\mathrm{slug}}{\\mathrm{foot}^{3}}$"
      ],
      "text/plain": [
       "1.938 <Unit('slug / foot ** 3')>"
      ]
     },
     "execution_count": 3,
     "metadata": {},
     "output_type": "execute_result"
    }
   ],
   "source": [
    "rho = civilpy.general.density.water / civilpy.general.physics.gravity\n",
    "round(rho.to('slugs/ft**3'), 3)"
   ]
  },
  {
   "cell_type": "code",
   "execution_count": 4,
   "metadata": {},
   "outputs": [
    {
     "data": {
      "text/html": [
       "998.747 kilogram/meter<sup>3</sup>"
      ],
      "text/latex": [
       "$998.747\\ \\frac{\\mathrm{kilogram}}{\\mathrm{meter}^{3}}$"
      ],
      "text/plain": [
       "998.747 <Unit('kilogram / meter ** 3')>"
      ]
     },
     "execution_count": 4,
     "metadata": {},
     "output_type": "execute_result"
    }
   ],
   "source": [
    "round(rho.to('kg/m**3'), 3)"
   ]
  },
  {
   "cell_type": "markdown",
   "metadata": {},
   "source": [
    "### Specific Gravity"
   ]
  },
  {
   "cell_type": "code",
   "execution_count": 5,
   "metadata": {},
   "outputs": [
    {
     "data": {
      "text/html": [
       "1.67 dimensionless"
      ],
      "text/latex": [
       "$1.67\\ dimensionless$"
      ],
      "text/plain": [
       "1.67 <Unit('dimensionless')>"
      ]
     },
     "execution_count": 5,
     "metadata": {},
     "output_type": "execute_result"
    }
   ],
   "source": [
    "co2_gas_constant = 35.1 * (civilpy.unit.ft*civilpy.unit.lb) / (civilpy.unit.lbf * civilpy.unit.rankine)\n",
    "co2_pressure = 20 * civilpy.unit.lb / civilpy.unit.inch ** 2\n",
    "Q = civilpy.unit.Quantity\n",
    "temp_i = Q(150, civilpy.unit.delta_degF)\n",
    "temp_f = Q(460, civilpy.unit.degR)\n",
    "density_co2 = (co2_pressure.to('lb/ft**2') / (co2_gas_constant * (temp_i + temp_f)))\n",
    "\n",
    "sg = civilpy.water_resources.hydraulics.specific_gravity(density_co2, phase='gas')\n",
    "round(sg, 2)"
   ]
  },
  {
   "cell_type": "markdown",
   "metadata": {},
   "source": [
    "### Specific Weight"
   ]
  },
  {
   "cell_type": "code",
   "execution_count": 6,
   "metadata": {},
   "outputs": [
    {
     "data": {
      "text/html": [
       "62.79 force_pound/foot<sup>3</sup>"
      ],
      "text/latex": [
       "$62.79\\ \\frac{\\mathrm{force\\_pound}}{\\mathrm{foot}^{3}}$"
      ],
      "text/plain": [
       "62.79 <Unit('force_pound / foot ** 3')>"
      ]
     },
     "execution_count": 6,
     "metadata": {},
     "output_type": "execute_result"
    }
   ],
   "source": [
    "density = 1.95 * civilpy.unit.slug / civilpy.unit.ft ** 3\n",
    "SW = civilpy.general.specific_weight(density)\n",
    "round(SW.to('lbf / ft ** 3'), 2)"
   ]
  },
  {
   "cell_type": "markdown",
   "metadata": {},
   "source": [
    "### Manometer"
   ]
  },
  {
   "cell_type": "code",
   "execution_count": 7,
   "metadata": {},
   "outputs": [
    {
     "data": {
      "text/html": [
       "4.01 pound_force_per_square_inch"
      ],
      "text/latex": [
       "$4.01\\ \\mathrm{pound\\_force\\_per\\_square\\_inch}$"
      ],
      "text/plain": [
       "4.01 <Unit('pound_force_per_square_inch')>"
      ]
     },
     "execution_count": 7,
     "metadata": {},
     "output_type": "execute_result"
    }
   ],
   "source": [
    "rhom = civilpy.general.density.mercury\n",
    "rho2 = civilpy.general.density.water\n",
    "hw = 120 * civilpy.unit.inch\n",
    "hm = 17 * civilpy.unit.inch\n",
    "\n",
    "delta_pressure = civilpy.water_resources.manometer_pressure(rhom, hm, rho2=rho2, h2=hw)\n",
    "round(delta_pressure.to('psi'), 2)"
   ]
  },
  {
   "cell_type": "code",
   "execution_count": 8,
   "metadata": {},
   "outputs": [
    {
     "data": {
      "text/html": [
       "43.3682858060602 pound_force_per_square_inch"
      ],
      "text/latex": [
       "$43.3682858060602\\ \\mathrm{pound\\_force\\_per\\_square\\_inch}$"
      ],
      "text/plain": [
       "43.3682858060602 <Unit('pound_force_per_square_inch')>"
      ]
     },
     "execution_count": 8,
     "metadata": {},
     "output_type": "execute_result"
    }
   ],
   "source": [
    "h = 100 * civilpy.unit.ft\n",
    "p = civilpy.water_resources.pressure_at_depth(h)\n",
    "\n",
    "p.to('psi')"
   ]
  },
  {
   "cell_type": "code",
   "execution_count": 9,
   "metadata": {},
   "outputs": [
    {
     "data": {
      "text/html": [
       "62.24363577974747 pound/foot<sup>3</sup>"
      ],
      "text/latex": [
       "$62.24363577974747\\ \\frac{\\mathrm{pound}}{\\mathrm{foot}^{3}}$"
      ],
      "text/plain": [
       "62.24363577974747 <Unit('pound / foot ** 3')>"
      ]
     },
     "execution_count": 9,
     "metadata": {},
     "output_type": "execute_result"
    }
   ],
   "source": [
    "rho = 997.0474 * civilpy.unit.kg / civilpy.unit.m ** 3\n",
    "rho.to('lb/ft**3')"
   ]
  },
  {
   "cell_type": "code",
   "execution_count": 10,
   "metadata": {},
   "outputs": [
    {
     "data": {
      "text/html": [
       "62.4 force_pound/foot<sup>3</sup>"
      ],
      "text/latex": [
       "$62.4\\ \\frac{\\mathrm{force\\_pound}}{\\mathrm{foot}^{3}}$"
      ],
      "text/plain": [
       "62.4 <Unit('force_pound / foot ** 3')>"
      ]
     },
     "execution_count": 10,
     "metadata": {},
     "output_type": "execute_result"
    }
   ],
   "source": [
    "civilpy.general.density.water"
   ]
  },
  {
   "cell_type": "code",
   "execution_count": 12,
   "metadata": {},
   "outputs": [
    {
     "data": {
      "text/html": [
       "1.0 force_pound/(pound second<sup>4</sup>)"
      ],
      "text/latex": [
       "$1.0\\ \\frac{\\mathrm{force\\_pound}}{\\left(\\mathrm{pound} \\cdot \\mathrm{second}^{4}\\right)}$"
      ],
      "text/plain": [
       "1.0 <Unit('force_pound / pound / second ** 4')>"
      ]
     },
     "execution_count": 12,
     "metadata": {},
     "output_type": "execute_result"
    }
   ],
   "source": [
    "civilpy.general.physics.gravity / civilpy.general.physics.gravity_c"
   ]
  },
  {
   "cell_type": "code",
   "execution_count": null,
   "metadata": {},
   "outputs": [],
   "source": []
  },
  {
   "cell_type": "code",
   "execution_count": null,
   "metadata": {},
   "outputs": [],
   "source": []
  }
 ],
 "metadata": {
  "kernelspec": {
   "display_name": "Python 3",
   "language": "python",
   "name": "python3"
  },
  "language_info": {
   "codemirror_mode": {
    "name": "ipython",
    "version": 3
   },
   "file_extension": ".py",
   "mimetype": "text/x-python",
   "name": "python",
   "nbconvert_exporter": "python",
   "pygments_lexer": "ipython3",
   "version": "3.8.10"
  }
 },
 "nbformat": 4,
 "nbformat_minor": 4
}
