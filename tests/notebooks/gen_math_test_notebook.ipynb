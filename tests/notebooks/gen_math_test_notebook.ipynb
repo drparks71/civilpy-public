{
 "cells": [
  {
   "cell_type": "markdown",
   "metadata": {},
   "source": [
    "# General"
   ]
  },
  {
   "cell_type": "code",
   "execution_count": 1,
   "metadata": {},
   "outputs": [],
   "source": [
    "import os\n",
    "import sys\n",
    "module_path = os.path.abspath(os.path.join('..\\\\..'))\n",
    "if module_path not in sys.path:\n",
    "    sys.path.append(module_path)"
   ]
  },
  {
   "cell_type": "code",
   "execution_count": 2,
   "metadata": {},
   "outputs": [],
   "source": [
    "import civilpy"
   ]
  },
  {
   "cell_type": "markdown",
   "metadata": {},
   "source": [
    "### Units in CivilPy are handled by the \"pint\" package, more examples of it's use can be found in the [documentation](https://pint.readthedocs.io/en/stable/)."
   ]
  },
  {
   "cell_type": "markdown",
   "metadata": {},
   "source": [
    "### Kinetic Energy"
   ]
  },
  {
   "cell_type": "code",
   "execution_count": 3,
   "metadata": {},
   "outputs": [
    {
     "name": "stdout",
     "output_type": "stream",
     "text": [
      "4.53E+10 foot * pound\n"
     ]
    }
   ],
   "source": [
    "v = 27000 * (civilpy.unit.ft / civilpy.unit.sec)\n",
    "m = 4000 * civilpy.unit.lb\n",
    "kinetic = civilpy.general.kinetic_energy(m, v)\n",
    "kinetic.to_compact()\n",
    "\n",
    "print(f'{round(kinetic, 3):.2E}')"
   ]
  },
  {
   "cell_type": "markdown",
   "metadata": {},
   "source": [
    "### Potential Energy"
   ]
  },
  {
   "cell_type": "code",
   "execution_count": 4,
   "metadata": {},
   "outputs": [
    {
     "name": "stdout",
     "output_type": "stream",
     "text": [
      "7.848 joule\n"
     ]
    }
   ],
   "source": [
    "m = 2 * civilpy.unit.kg\n",
    "z = 0.4 * civilpy.unit.m\n",
    "potential = civilpy.general.potential_energy(m, z, system='metric')\n",
    "potential.ito(civilpy.unit.joule)\n",
    "\n",
    "print(f'{round(potential, 3)}')"
   ]
  },
  {
   "cell_type": "markdown",
   "metadata": {},
   "source": [
    "### Weight/Force Calculation"
   ]
  },
  {
   "cell_type": "code",
   "execution_count": 5,
   "metadata": {},
   "outputs": [
    {
     "name": "stdout",
     "output_type": "stream",
     "text": [
      "98.1 newton\n"
     ]
    }
   ],
   "source": [
    "m = 10 * civilpy.unit.kg\n",
    "weight = civilpy.general.mass_to_weight(m, system='metric')\n",
    "weight.ito(civilpy.unit.newton)\n",
    "\n",
    "print(f'{round(weight, 1)}')"
   ]
  },
  {
   "cell_type": "markdown",
   "metadata": {},
   "source": [
    "### Note: civilpy.general.math.solver is just the \"sympy\" package, more examples of it's use can be found in the [documentation](https://www.sympy.org/en/index.html)."
   ]
  },
  {
   "cell_type": "markdown",
   "metadata": {},
   "source": [
    "### Quadratic Equation"
   ]
  },
  {
   "cell_type": "code",
   "execution_count": 6,
   "metadata": {},
   "outputs": [
    {
     "data": {
      "text/plain": [
       "[1/2, 3]"
      ]
     },
     "execution_count": 6,
     "metadata": {},
     "output_type": "execute_result"
    }
   ],
   "source": [
    "x = civilpy.general.solver.symbols('x')\n",
    "eq = 2*x**2 - 7*x + 3\n",
    "solution = civilpy.general.equation_solver(eq, 'x')\n",
    "solution"
   ]
  },
  {
   "cell_type": "markdown",
   "metadata": {},
   "source": [
    "### Polynomial Equations"
   ]
  },
  {
   "cell_type": "code",
   "execution_count": 7,
   "metadata": {},
   "outputs": [
    {
     "data": {
      "text/plain": [
       "[-2, -1, 1, 3]"
      ]
     },
     "execution_count": 7,
     "metadata": {},
     "output_type": "execute_result"
    }
   ],
   "source": [
    "eq = 2*x**4 - 2*x**3 - 14*x**2 + 2*x + 12\n",
    "\n",
    "solution = civilpy.general.equation_solver(eq, 'x')\n",
    "solution"
   ]
  },
  {
   "cell_type": "markdown",
   "metadata": {},
   "source": [
    "### Exponential Equations"
   ]
  },
  {
   "cell_type": "code",
   "execution_count": 8,
   "metadata": {},
   "outputs": [
    {
     "name": "stdout",
     "output_type": "stream",
     "text": [
      "532\n"
     ]
    }
   ],
   "source": [
    "t = civilpy.general.solver.symbols('t')\n",
    "\n",
    "eq = civilpy.general.solver.exp(-0.005*t) - 0.07\n",
    "solution = civilpy.general.equation_solver(eq, 't')[0]\n",
    "print(f'{solution:.0f}')"
   ]
  },
  {
   "cell_type": "markdown",
   "metadata": {},
   "source": [
    "### Partial Fraction Decomposition"
   ]
  },
  {
   "cell_type": "code",
   "execution_count": 9,
   "metadata": {},
   "outputs": [
    {
     "data": {
      "text/latex": [
       "$\\displaystyle \\frac{x^{2} + 2 x + 3}{x^{2} \\left(x^{2} + x + 2\\right)}$"
      ],
      "text/plain": [
       "(x**2 + 2*x + 3)/(x**2*(x**2 + x + 2))"
      ]
     },
     "execution_count": 9,
     "metadata": {},
     "output_type": "execute_result"
    }
   ],
   "source": [
    "f = (x**2 + 2*x + 3)/(x**4 + x**3 + 2*x**2)\n",
    "\n",
    "temp = civilpy.general.solver.apart(f)\n",
    "temp = civilpy.general.solver.together(temp)\n",
    "temp = civilpy.general.solver.numer(f) / civilpy.general.solver.expand(civilpy.general.solver.denom(f))\n",
    "temp = civilpy.general.solver.factor(temp)\n",
    "\n",
    "temp"
   ]
  },
  {
   "cell_type": "code",
   "execution_count": 10,
   "metadata": {},
   "outputs": [
    {
     "data": {
      "text/latex": [
       "$\\displaystyle \\frac{2 B + x^{3} \\left(A + D\\right) + x^{2} \\left(A + B + C\\right) + x \\left(2 A + B\\right)}{x^{2} \\left(x^{2} + x + 2\\right)} = \\frac{x^{2} + 2 x + 3}{x^{4} + x^{3} + 2 x^{2}}$"
      ],
      "text/plain": [
       "Eq((2*B + x**3*(A + D) + x**2*(A + B + C) + x*(2*A + B))/(x**2*(x**2 + x + 2)), (x**2 + 2*x + 3)/(x**4 + x**3 + 2*x**2))"
      ]
     },
     "execution_count": 10,
     "metadata": {},
     "output_type": "execute_result"
    }
   ],
   "source": [
    "civilpy.general.solver.var('A:D')\n",
    "\n",
    "p1 = A/x\n",
    "p2 = B/x**2\n",
    "p3 = (C + D*x)/(x**2 + x + 2)\n",
    "\n",
    "eqs = p1, p2, p3\n",
    "\n",
    "h = sum(eqs)\n",
    "\n",
    "rational_function = civilpy.general.solver.together(h)\n",
    "\n",
    "temp = civilpy.general.solver.factor(rational_function, x)\n",
    "\n",
    "civilpy.general.solver.Eq(temp, f)"
   ]
  },
  {
   "cell_type": "code",
   "execution_count": 11,
   "metadata": {},
   "outputs": [
    {
     "data": {
      "text/plain": [
       "{A: 1/4, B: 3/2, C: -3/4, D: -1/4}"
      ]
     },
     "execution_count": 11,
     "metadata": {},
     "output_type": "execute_result"
    }
   ],
   "source": [
    "eq = civilpy.general.solver.Eq(civilpy.general.solver.numer(_.lhs), civilpy.general.solver.numer(_.rhs))\n",
    "solution = civilpy.general.solver.solve_undetermined_coeffs(eq, [A, B, C, D], x)\n",
    "\n",
    "solution"
   ]
  },
  {
   "cell_type": "markdown",
   "metadata": {},
   "source": [
    "### Simultaneous Linear Equations"
   ]
  },
  {
   "cell_type": "code",
   "execution_count": 12,
   "metadata": {},
   "outputs": [
    {
     "data": {
      "text/plain": [
       "{x: -24, y: 20}"
      ]
     },
     "execution_count": 12,
     "metadata": {},
     "output_type": "execute_result"
    }
   ],
   "source": [
    "y = civilpy.general.solver.symbols('y')\n",
    "p1 = 2*x + 3*y - 12\n",
    "p2 = 3*x + 4*y - 8\n",
    "\n",
    "eqs = p1, p2\n",
    "\n",
    "solution = civilpy.general.solver.solve(eqs, [x, y])\n",
    "\n",
    "solution"
   ]
  },
  {
   "cell_type": "markdown",
   "metadata": {},
   "source": [
    "### Limits"
   ]
  },
  {
   "cell_type": "markdown",
   "metadata": {},
   "source": [
    "$ \\lim_{x \\to 3} \\frac{x^3 - 27}{x^2 - 9} $"
   ]
  },
  {
   "cell_type": "code",
   "execution_count": 13,
   "metadata": {},
   "outputs": [
    {
     "name": "stdout",
     "output_type": "stream",
     "text": [
      "9/2\n"
     ]
    }
   ],
   "source": [
    "eq = (x**3 - 27) / (x**2 - 9)\n",
    "limit_expr = civilpy.general.solver.limit(eq, x, 3)\n",
    "print(limit_expr)"
   ]
  },
  {
   "cell_type": "markdown",
   "metadata": {},
   "source": [
    "$ \\lim_{x \\to \\infty} \\frac{3x - 2}{4x + 3} $"
   ]
  },
  {
   "cell_type": "code",
   "execution_count": 14,
   "metadata": {},
   "outputs": [
    {
     "name": "stdout",
     "output_type": "stream",
     "text": [
      "3/4\n"
     ]
    }
   ],
   "source": [
    "eq = (3*x - 2) / (4*x + 3)\n",
    "inf = civilpy.general.inf\n",
    "\n",
    "limit_expr = civilpy.general.solver.limit(eq, x, inf)\n",
    "print(limit_expr)"
   ]
  },
  {
   "cell_type": "markdown",
   "metadata": {},
   "source": [
    "$ \\lim_{x \\to 2} \\frac{x^2 + x - 6}{x^2 - 3x + 2} $"
   ]
  },
  {
   "cell_type": "code",
   "execution_count": 15,
   "metadata": {},
   "outputs": [
    {
     "name": "stdout",
     "output_type": "stream",
     "text": [
      "5\n"
     ]
    }
   ],
   "source": [
    "eq = (x**2 + x - 6) / (x**2 - 3*x + 2)\n",
    "limit_expr = civilpy.general.solver.limit(eq, x, 2)\n",
    "print(limit_expr)"
   ]
  },
  {
   "cell_type": "markdown",
   "metadata": {},
   "source": [
    "### Sequence and Progressions\n",
    "\n",
    "$ \\lim_{n \\to \\infty} \\frac{e^n}{n} $"
   ]
  },
  {
   "cell_type": "code",
   "execution_count": 16,
   "metadata": {},
   "outputs": [
    {
     "name": "stdout",
     "output_type": "stream",
     "text": [
      "oo\n"
     ]
    }
   ],
   "source": [
    "n = civilpy.general.solver.symbols('n')\n",
    "eq = (civilpy.general.solver.exp(n)) / (n)\n",
    "limit_expr = civilpy.general.solver.limit(eq, n, inf)\n",
    "print(limit_expr)"
   ]
  },
  {
   "cell_type": "code",
   "execution_count": 17,
   "metadata": {},
   "outputs": [
    {
     "name": "stdout",
     "output_type": "stream",
     "text": [
      "oo\n"
     ]
    }
   ],
   "source": [
    "# Apply L'Hopital's Rule\n",
    "eq = (civilpy.general.solver.exp(n)) / (1)\n",
    "limit_expr = civilpy.general.solver.limit(eq, n, inf)\n",
    "print(limit_expr)"
   ]
  },
  {
   "cell_type": "markdown",
   "metadata": {},
   "source": [
    "### Arithmetic Growth Rate"
   ]
  },
  {
   "cell_type": "code",
   "execution_count": 18,
   "metadata": {},
   "outputs": [
    {
     "data": {
      "text/plain": [
       "1050"
      ]
     },
     "execution_count": 18,
     "metadata": {},
     "output_type": "execute_result"
    }
   ],
   "source": [
    "p_0 = 1000\n",
    "R = 10\n",
    "T = 5\n",
    "\n",
    "solution = civilpy.general.arithmetic_growth(p_0, R, T)\n",
    "solution"
   ]
  },
  {
   "cell_type": "markdown",
   "metadata": {},
   "source": [
    "### Geometric Growth Rate"
   ]
  },
  {
   "cell_type": "code",
   "execution_count": 19,
   "metadata": {},
   "outputs": [
    {
     "data": {
      "text/plain": [
       "292542.81264960504"
      ]
     },
     "execution_count": 19,
     "metadata": {},
     "output_type": "execute_result"
    }
   ],
   "source": [
    "p_0 = 245000\n",
    "R = 0.03\n",
    "T = 6\n",
    "\n",
    "solution = civilpy.general.geometric_growth(p_0, R, T)\n",
    "solution"
   ]
  },
  {
   "cell_type": "markdown",
   "metadata": {},
   "source": [
    "### Matrix Math (array is just numpy.array)"
   ]
  },
  {
   "cell_type": "code",
   "execution_count": 20,
   "metadata": {},
   "outputs": [
    {
     "data": {
      "text/plain": [
       "array([8, 3])"
      ]
     },
     "execution_count": 20,
     "metadata": {},
     "output_type": "execute_result"
    }
   ],
   "source": [
    "x = civilpy.general.np.array([3,2])\n",
    "y = civilpy.general.np.array([5,1])\n",
    "z = x + y\n",
    "z"
   ]
  },
  {
   "cell_type": "markdown",
   "metadata": {},
   "source": [
    "### Determinate of a Matrix"
   ]
  },
  {
   "cell_type": "code",
   "execution_count": 21,
   "metadata": {},
   "outputs": [
    {
     "name": "stdout",
     "output_type": "stream",
     "text": [
      "82.0\n"
     ]
    }
   ],
   "source": [
    "np = civilpy.general.np\n",
    "A = np.array([[2, 3, -4], [3, -1, -2], [4, -7, -6]])\n",
    "print(round(np.linalg.det(A),0))"
   ]
  },
  {
   "cell_type": "markdown",
   "metadata": {},
   "source": [
    "### Matrix Multiplication"
   ]
  },
  {
   "cell_type": "code",
   "execution_count": 22,
   "metadata": {},
   "outputs": [
    {
     "data": {
      "text/plain": [
       "array([[ 78,  74],\n",
       "       [111, 136]])"
      ]
     },
     "execution_count": 22,
     "metadata": {},
     "output_type": "execute_result"
    }
   ],
   "source": [
    "A = np.array([[1, 4, 3], [5, 2, 6]])\n",
    "B = np.array([[7, 12], [11, 8], [9, 10]])\n",
    "\n",
    "C = np.matmul(A, B)\n",
    "C"
   ]
  },
  {
   "cell_type": "markdown",
   "metadata": {},
   "source": [
    "### Transposing Matrix"
   ]
  },
  {
   "cell_type": "code",
   "execution_count": 23,
   "metadata": {},
   "outputs": [
    {
     "data": {
      "text/plain": [
       "array([[1, 2, 7],\n",
       "       [6, 3, 1],\n",
       "       [9, 4, 5]])"
      ]
     },
     "execution_count": 23,
     "metadata": {},
     "output_type": "execute_result"
    }
   ],
   "source": [
    "A = np.array([[1, 6, 9], [2, 3, 4], [7, 1, 5]])\n",
    "A_trans = np.matrix.transpose(A)\n",
    "A_trans"
   ]
  },
  {
   "cell_type": "markdown",
   "metadata": {},
   "source": [
    "### Matrix Rank"
   ]
  },
  {
   "cell_type": "code",
   "execution_count": 24,
   "metadata": {},
   "outputs": [
    {
     "data": {
      "text/plain": [
       "2"
      ]
     },
     "execution_count": 24,
     "metadata": {},
     "output_type": "execute_result"
    }
   ],
   "source": [
    "A = np.array([[7, 4, 9, 1], [0, 2, -5, 3], [0, 4, -10, 6]])\n",
    "rank = np.linalg.matrix_rank(A)\n",
    "rank"
   ]
  },
  {
   "cell_type": "markdown",
   "metadata": {},
   "source": [
    "### Classical Adjoint"
   ]
  },
  {
   "cell_type": "code",
   "execution_count": 25,
   "metadata": {},
   "outputs": [
    {
     "data": {
      "text/plain": [
       "array([[-18., -11., -10.],\n",
       "       [  2.,  14.,  -4.],\n",
       "       [  4.,   5.,  -8.]])"
      ]
     },
     "execution_count": 25,
     "metadata": {},
     "output_type": "execute_result"
    }
   ],
   "source": [
    "A = np.array([[2, 3, -4], [0, -4, 2], [1, -1, 5]])\n",
    "\n",
    "adjoint = np.matrix.transpose(np.linalg.inv(A).T * np.linalg.det(A))\n",
    "adjoint"
   ]
  },
  {
   "cell_type": "markdown",
   "metadata": {},
   "source": [
    "### Matrix Inverse"
   ]
  },
  {
   "cell_type": "code",
   "execution_count": 26,
   "metadata": {},
   "outputs": [
    {
     "data": {
      "text/plain": [
       "array([[ 1.5, -2.5],\n",
       "       [-1. ,  2. ]])"
      ]
     },
     "execution_count": 26,
     "metadata": {},
     "output_type": "execute_result"
    }
   ],
   "source": [
    "A = np.array([[4, 5], [2, 3]])\n",
    "\n",
    "A_inverse = np.linalg.inv(A)\n",
    "A_inverse"
   ]
  },
  {
   "cell_type": "code",
   "execution_count": 27,
   "metadata": {},
   "outputs": [
    {
     "data": {
      "text/plain": [
       "array([[1., 0.],\n",
       "       [0., 1.]])"
      ]
     },
     "execution_count": 27,
     "metadata": {},
     "output_type": "execute_result"
    }
   ],
   "source": [
    "identity = np.matmul(A, A_inverse)\n",
    "identity"
   ]
  },
  {
   "cell_type": "markdown",
   "metadata": {},
   "source": [
    "### Simultaneous Linear Equations in Matrix Form\n",
    "\n",
    "$ a_{11}x_1 + a_{12}x_2 = b_1 $\n",
    "\n",
    "$ a_{21}x_1 + a_{22}x_2 = b_2 $"
   ]
  },
  {
   "cell_type": "code",
   "execution_count": 28,
   "metadata": {},
   "outputs": [
    {
     "name": "stdout",
     "output_type": "stream",
     "text": [
      "[['a11' 'a12']\n",
      " ['a21' 'a22']]\n",
      "[['x1']\n",
      " ['x2']]\n",
      "[['b1']\n",
      " ['b2']]\n"
     ]
    }
   ],
   "source": [
    "A = np.array([['a11', 'a12'],['a21', 'a22']])\n",
    "X = np.array([['x1'], ['x2']])\n",
    "B = np.array([['b1'], ['b2']])\n",
    "\n",
    "print(A)\n",
    "print(X)\n",
    "print(B)"
   ]
  },
  {
   "cell_type": "markdown",
   "metadata": {},
   "source": [
    "### Solving Linear Equations\n",
    "\n",
    "$ 2x + 3y - 4z = 1 $\n",
    "\n",
    "$ 3x - y - 2z = 4 $\n",
    "\n",
    "$ 4x - 7y - 6z = -7 $"
   ]
  },
  {
   "cell_type": "code",
   "execution_count": 29,
   "metadata": {},
   "outputs": [
    {
     "name": "stdout",
     "output_type": "stream",
     "text": [
      "[[3.]\n",
      " [1.]\n",
      " [2.]]\n"
     ]
    }
   ],
   "source": [
    "A = np.array([[2, 3, -4], [3, -1, -2], [4, -7, -6]])\n",
    "B = np.array([[1], [4], [-7]])\n",
    "\n",
    "X = np.linalg.solve(A, B)\n",
    "print(X)"
   ]
  },
  {
   "cell_type": "markdown",
   "metadata": {},
   "source": [
    "### Eigenvalues and Eigenvectors"
   ]
  },
  {
   "cell_type": "code",
   "execution_count": 30,
   "metadata": {},
   "outputs": [
    {
     "name": "stdout",
     "output_type": "stream",
     "text": [
      "Eigenvalues:\n",
      "1: 8\n",
      "2: -2\n",
      "\n",
      "Eigenvectors:\n",
      "\n",
      " Matrix([[-1], [1]])\n",
      "\n",
      " Matrix([[2], [3]])\n"
     ]
    }
   ],
   "source": [
    "A = civilpy.general.solver.Matrix([[2, 4], [6, 4]])\n",
    "\n",
    "eigenvalues = A.eigenvals()\n",
    "eigenvectors = A.eigenvects(simplify=True)\n",
    "\n",
    "print('Eigenvalues:')\n",
    "for count, key in enumerate(eigenvalues):\n",
    "    print(f'{count+1}: {key}')\n",
    "\n",
    "print('\\nEigenvectors:')\n",
    "for value in eigenvectors:\n",
    "    print(f'\\n {value[2][0]}')"
   ]
  },
  {
   "cell_type": "markdown",
   "metadata": {},
   "source": [
    "### Vectors\n",
    "\n",
    "Angle between 2 vectors"
   ]
  },
  {
   "cell_type": "code",
   "execution_count": 31,
   "metadata": {},
   "outputs": [
    {
     "name": "stdout",
     "output_type": "stream",
     "text": [
      "120.0\n"
     ]
    }
   ],
   "source": [
    "v_1 = [-np.sqrt(3), 1]\n",
    "v_2 = [2*np.sqrt(3), 2]\n",
    "\n",
    "unit_vect_1 = v_1 / np.linalg.norm(v_1)\n",
    "unit_vect_2 = v_2 / np.linalg.norm(v_2)\n",
    "dot_product = np.dot(unit_vect_1, unit_vect_2)\n",
    "angle = np.arccos(dot_product)\n",
    "\n",
    "print(round(np.degrees(angle), 0))"
   ]
  },
  {
   "cell_type": "markdown",
   "metadata": {},
   "source": [
    "Find vector orthogonal to two vectors"
   ]
  },
  {
   "cell_type": "code",
   "execution_count": 32,
   "metadata": {},
   "outputs": [
    {
     "data": {
      "text/plain": [
       "array([-0.84515425,  0.16903085,  0.50709255])"
      ]
     },
     "execution_count": 32,
     "metadata": {},
     "output_type": "execute_result"
    }
   ],
   "source": [
    "v_1 = np.array([1, -1, 2])\n",
    "v_2 = np.array([0, 3, -1])\n",
    "\n",
    "solution = np.cross(v_1, v_2)\n",
    "vector_length = np.linalg.norm(solution)\n",
    "unit_vector = solution / vector_length\n",
    "\n",
    "unit_vector"
   ]
  },
  {
   "cell_type": "markdown",
   "metadata": {},
   "source": [
    "### Analytic Geometry"
   ]
  },
  {
   "cell_type": "code",
   "execution_count": 33,
   "metadata": {},
   "outputs": [
    {
     "name": "stdout",
     "output_type": "stream",
     "text": [
      "0.5 inch\n"
     ]
    }
   ],
   "source": [
    "unit = civilpy.unit\n",
    "d = 2 * unit.inch\n",
    "dia = 2 * unit.inch\n",
    "radius = civilpy.water_resources.hydraulic_radius(depth=d, dia=dia)\n",
    "print(round(radius, 2))"
   ]
  },
  {
   "cell_type": "code",
   "execution_count": 34,
   "metadata": {},
   "outputs": [
    {
     "data": {
      "text/html": [
       "1.13 meter"
      ],
      "text/latex": [
       "$1.13\\ \\mathrm{meter}$"
      ],
      "text/plain": [
       "1.13 <Unit('meter')>"
      ]
     },
     "execution_count": 34,
     "metadata": {},
     "output_type": "execute_result"
    }
   ],
   "source": [
    "radius = civilpy.water_resources.hydraulic_radius(depth=1.8 * unit.meter, b1=6.1 * unit.meter, shape='rectangle')\n",
    "round(radius, 2)"
   ]
  },
  {
   "cell_type": "code",
   "execution_count": 35,
   "metadata": {},
   "outputs": [
    {
     "data": {
      "text/html": [
       "1.23 meter"
      ],
      "text/latex": [
       "$1.23\\ \\mathrm{meter}$"
      ],
      "text/plain": [
       "1.23 <Unit('meter')>"
      ]
     },
     "execution_count": 35,
     "metadata": {},
     "output_type": "execute_result"
    }
   ],
   "source": [
    "radius = civilpy.water_resources.hydraulic_radius(depth=1.8 * unit.meter, slope=2, b1=6.1 * unit.meter, shape='trapezoid')\n",
    "round(radius, 2)"
   ]
  },
  {
   "cell_type": "code",
   "execution_count": 36,
   "metadata": {},
   "outputs": [
    {
     "data": {
      "text/html": [
       "0.45 meter"
      ],
      "text/latex": [
       "$0.45\\ \\mathrm{meter}$"
      ],
      "text/plain": [
       "0.45 <Unit('meter')>"
      ]
     },
     "execution_count": 36,
     "metadata": {},
     "output_type": "execute_result"
    }
   ],
   "source": [
    "radius = civilpy.water_resources.hydraulic_radius(depth=1.8 * unit.meter, slope=0.577, shape='triangle')\n",
    "round(radius, 2)"
   ]
  },
  {
   "cell_type": "markdown",
   "metadata": {},
   "source": [
    "### Plotting an implicit equation"
   ]
  },
  {
   "cell_type": "code",
   "execution_count": 37,
   "metadata": {},
   "outputs": [
    {
     "data": {
      "image/png": "[encoded data removed]",
      "text/plain": [
       "<Figure size 432x288 with 1 Axes>"
      ]
     },
     "metadata": {
      "needs_background": "light"
     },
     "output_type": "display_data"
    }
   ],
   "source": [
    "import matplotlib.pyplot\n",
    "from numpy import arange\n",
    "from numpy import meshgrid\n",
    "\n",
    "delta = 0.025\n",
    "xrange = arange(-5.0, 1, delta)\n",
    "yrange = arange(-5.0, 9.0, delta)\n",
    "X, Y = meshgrid(xrange,yrange)\n",
    "\n",
    "# F is one side of the equation, G is the other\n",
    "F = 4*Y**2 - 12*Y + 16*X + 41\n",
    "G = 0\n",
    "\n",
    "plt = matplotlib.pyplot.contour(X, Y, (F - G), [0])\n",
    "plt.axes.set_aspect('equal')\n",
    "matplotlib.pyplot.show()"
   ]
  },
  {
   "cell_type": "code",
   "execution_count": 38,
   "metadata": {},
   "outputs": [
    {
     "data": {
      "image/png": "[encoded data removed]",
      "text/plain": [
       "<Figure size 432x288 with 1 Axes>"
      ]
     },
     "metadata": {
      "needs_background": "light"
     },
     "output_type": "display_data"
    }
   ],
   "source": [
    "delta = 0.025\n",
    "xrange = arange(-5.0, 5, delta)\n",
    "yrange = arange(-5.0, 5.0, delta)\n",
    "X, Y = meshgrid(xrange,yrange)\n",
    "\n",
    "# F is one side of the equation, G is the other\n",
    "F = X**2 - 10*X*Y + Y**2 + X + Y + 1\n",
    "G = 0\n",
    "\n",
    "plt = matplotlib.pyplot.contour(X, Y, (F - G), [0])\n",
    "plt.axes.set_aspect('equal')\n",
    "matplotlib.pyplot.show()"
   ]
  },
  {
   "cell_type": "code",
   "execution_count": 39,
   "metadata": {},
   "outputs": [
    {
     "data": {
      "image/png": "[encoded data removed]",
      "text/plain": [
       "<Figure size 432x288 with 1 Axes>"
      ]
     },
     "metadata": {
      "needs_background": "light"
     },
     "output_type": "display_data"
    }
   ],
   "source": [
    "delta = 0.025\n",
    "xrange = arange(-5.0, 5, delta)\n",
    "yrange = arange(-5.0, 5.0, delta)\n",
    "X, Y = meshgrid(xrange,yrange)\n",
    "\n",
    "# F is one side of the equation, G is the other\n",
    "F = X**2 + 4*Y**2 + 2*X - 8*Y + 1\n",
    "G = 0\n",
    "\n",
    "plt = matplotlib.pyplot.contour(X, Y, (F - G), [0])\n",
    "plt.axes.set_aspect('equal')\n",
    "matplotlib.pyplot.show()"
   ]
  },
  {
   "cell_type": "markdown",
   "metadata": {},
   "source": [
    "### Plotting with sympy for when matplotlib fails"
   ]
  },
  {
   "cell_type": "code",
   "execution_count": 40,
   "metadata": {},
   "outputs": [
    {
     "data": {
      "image/png": "[encoded data removed]",
      "text/plain": [
       "<Figure size 432x288 with 1 Axes>"
      ]
     },
     "metadata": {
      "needs_background": "light"
     },
     "output_type": "display_data"
    },
    {
     "data": {
      "text/plain": [
       "<sympy.plotting.plot.Plot at 0x18104652940>"
      ]
     },
     "execution_count": 40,
     "metadata": {},
     "output_type": "execute_result"
    }
   ],
   "source": [
    "from sympy import symbols, plot_implicit, Eq\n",
    "x, y = symbols('x y')\n",
    "plot_implicit(Eq(x**2 + y**2 - 6*x + 8*y + 20, 3), (x, 0, 9), (y, -9, 0), aspect_ratio=[1,1])\n"
   ]
  },
  {
   "cell_type": "code",
   "execution_count": 41,
   "metadata": {},
   "outputs": [
    {
     "data": {
      "image/png": "[encoded data removed]",
      "text/plain": [
       "<Figure size 432x288 with 1 Axes>"
      ]
     },
     "metadata": {
      "needs_background": "light"
     },
     "output_type": "display_data"
    }
   ],
   "source": [
    "import matplotlib.pyplot as plt\n",
    "\n",
    "n = 1000\n",
    "r = 1\n",
    "k = 1\n",
    "fig = plt.figure()\n",
    "ax = fig.add_subplot(111, projection='3d')\n",
    "\n",
    "# Plot a helix along the x-axis\n",
    "theta_max = 8 * np.pi\n",
    "theta = np.linspace(0, theta_max, n)\n",
    "x = r * np.cos(theta)\n",
    "y = r * np.sin(theta)\n",
    "z = k * theta\n",
    "ax.plot(x, y, z, 'b', lw=2)\n",
    "\n",
    "matplotlib.pyplot.show()"
   ]
  },
  {
   "cell_type": "markdown",
   "metadata": {},
   "source": [
    "### Differential Calculus"
   ]
  },
  {
   "cell_type": "code",
   "execution_count": 42,
   "metadata": {},
   "outputs": [
    {
     "data": {
      "text/latex": [
       "$\\displaystyle 5 x^{4}$"
      ],
      "text/plain": [
       "5*x**4"
      ]
     },
     "execution_count": 42,
     "metadata": {},
     "output_type": "execute_result"
    }
   ],
   "source": [
    "sym = civilpy.general.solver\n",
    "x = sym.Symbol('x')\n",
    "sym.diff(x**5)"
   ]
  },
  {
   "cell_type": "markdown",
   "metadata": {},
   "source": [
    "slope @ x = 3 of curve $f(x) = x^3 - 2x$"
   ]
  },
  {
   "cell_type": "code",
   "execution_count": 43,
   "metadata": {},
   "outputs": [
    {
     "data": {
      "text/latex": [
       "$\\displaystyle 25$"
      ],
      "text/plain": [
       "25"
      ]
     },
     "execution_count": 43,
     "metadata": {},
     "output_type": "execute_result"
    }
   ],
   "source": [
    "f_prime = sym.diff(x**3 - 2*x)\n",
    "f_prime.subs(x, 3)"
   ]
  },
  {
   "cell_type": "code",
   "execution_count": 44,
   "metadata": {},
   "outputs": [
    {
     "data": {
      "text/latex": [
       "$\\displaystyle 8.33333333333333 x^{0.666666666666667}$"
      ],
      "text/plain": [
       "8.33333333333333*x**0.666666666666667"
      ]
     },
     "execution_count": 44,
     "metadata": {},
     "output_type": "execute_result"
    }
   ],
   "source": [
    "f = 5*x**(5/3)\n",
    "f_prime = sym.diff(f)\n",
    "f_prime"
   ]
  },
  {
   "cell_type": "code",
   "execution_count": 45,
   "metadata": {},
   "outputs": [
    {
     "data": {
      "text/latex": [
       "$\\displaystyle - 2 \\sin^{2}{\\left(x \\right)} \\cos{\\left(x \\right)} + \\cos^{3}{\\left(x \\right)}$"
      ],
      "text/plain": [
       "-2*sin(x)**2*cos(x) + cos(x)**3"
      ]
     },
     "execution_count": 45,
     "metadata": {},
     "output_type": "execute_result"
    }
   ],
   "source": [
    "f = sym.sin(x) * sym.cos(x) ** 2\n",
    "f_prime = sym.diff(f)\n",
    "f_prime"
   ]
  },
  {
   "cell_type": "code",
   "execution_count": 46,
   "metadata": {},
   "outputs": [
    {
     "data": {
      "text/latex": [
       "$\\displaystyle - e^{x} \\tan{\\left(e^{x} \\right)}$"
      ],
      "text/plain": [
       "-exp(x)*tan(exp(x))"
      ]
     },
     "execution_count": 46,
     "metadata": {},
     "output_type": "execute_result"
    }
   ],
   "source": [
    "f = sym.ln(sym.cos(sym.exp(x)))\n",
    "f_prime = sym.diff(f)\n",
    "sym.simplify(f_prime)"
   ]
  },
  {
   "cell_type": "markdown",
   "metadata": {},
   "source": [
    "Find the global extrema of $ f(x) = x^3 + x^2 - x + 1 $on the interval \\[-2, +2\\]"
   ]
  },
  {
   "cell_type": "code",
   "execution_count": 47,
   "metadata": {},
   "outputs": [
    {
     "name": "stdout",
     "output_type": "stream",
     "text": [
      "The first derivative is \n",
      "3*x**2 + 2*x - 1 the second is \n",
      " 6*x + 2\n",
      "\n",
      "The first root is -1, the second root is 1/3\n",
      "\n",
      "-1 is a local maximum\n",
      "\n",
      "1/3 is a local minimum\n",
      "\n",
      "The inflection point is -1/3\n",
      "\n",
      "Global min: -2, Global max: 2\n"
     ]
    }
   ],
   "source": [
    "f = x**3 + x**2 - x + 1\n",
    "x1 = -2\n",
    "x2 = 2\n",
    "x1, x2, dict1 = civilpy.general.find_global_extrema_order_3(f, x1, x2)"
   ]
  },
  {
   "cell_type": "markdown",
   "metadata": {},
   "source": [
    "### Derivatives of parametric equations"
   ]
  },
  {
   "cell_type": "code",
   "execution_count": 48,
   "metadata": {},
   "outputs": [
    {
     "data": {
      "text/latex": [
       "$\\displaystyle - \\frac{1}{\\tan{\\left(t \\right)}}$"
      ],
      "text/plain": [
       "-1/tan(t)"
      ]
     },
     "execution_count": 48,
     "metadata": {},
     "output_type": "execute_result"
    }
   ],
   "source": [
    "x, y, t = sym.symbols('x y t')\n",
    "f1 = 5 * sym.cos(t) - x\n",
    "f2 = 5 * sym.sin(t) - y\n",
    "\n",
    "dx_dt = sym.diff(f1, t)\n",
    "dy_dt = sym.diff(f2, t)\n",
    "\n",
    "dy_dx = dy_dt / dx_dt\n",
    "sym.simplify(dy_dx)"
   ]
  },
  {
   "cell_type": "markdown",
   "metadata": {},
   "source": [
    "### Partial derivative"
   ]
  },
  {
   "cell_type": "code",
   "execution_count": 49,
   "metadata": {},
   "outputs": [
    {
     "data": {
      "text/latex": [
       "$\\displaystyle 6 x + y$"
      ],
      "text/plain": [
       "6*x + y"
      ]
     },
     "execution_count": 49,
     "metadata": {},
     "output_type": "execute_result"
    }
   ],
   "source": [
    "x, y, z = sym.symbols('x y z')\n",
    "f = 3*x**2 - 6*y**2 + x*y + 5*y - 9\n",
    "dz_dx = sym.diff(f, x)\n",
    "dz_dx"
   ]
  },
  {
   "cell_type": "markdown",
   "metadata": {},
   "source": [
    "### Implicit Differentiation"
   ]
  },
  {
   "cell_type": "code",
   "execution_count": 50,
   "metadata": {},
   "outputs": [
    {
     "data": {
      "text/latex": [
       "$\\displaystyle \\frac{- 2 x - y}{x + 3 y^{2}}$"
      ],
      "text/plain": [
       "(-2*x - y)/(x + 3*y**2)"
      ]
     },
     "execution_count": 50,
     "metadata": {},
     "output_type": "execute_result"
    }
   ],
   "source": [
    "f = x**2 + x*y + y**3\n",
    "\n",
    "df_dx = sym.diff(f, x)\n",
    "df_dy = sym.diff(f, y)\n",
    "dy_dx = -df_dx / df_dy\n",
    "dy_dx"
   ]
  },
  {
   "cell_type": "code",
   "execution_count": 51,
   "metadata": {},
   "outputs": [
    {
     "data": {
      "text/latex": [
       "$\\displaystyle - \\frac{1}{2}$"
      ],
      "text/plain": [
       "-1/2"
      ]
     },
     "execution_count": 51,
     "metadata": {},
     "output_type": "execute_result"
    }
   ],
   "source": [
    "f = x**2 + y**2 + z**2 - 9\n",
    "df_dx = sym.diff(f, x)\n",
    "df_dz = sym.diff(f, z)\n",
    "dz_dx = - df_dx / df_dz\n",
    "\n",
    "result = dz_dx.subs(x, 1).subs(y, 2).subs(z, 2)\n",
    "result"
   ]
  },
  {
   "cell_type": "markdown",
   "metadata": {},
   "source": [
    "### Integration"
   ]
  },
  {
   "cell_type": "code",
   "execution_count": 52,
   "metadata": {},
   "outputs": [
    {
     "data": {
      "text/latex": [
       "$\\displaystyle x^{4} + 6 x^{2} + 9 \\log{\\left(x \\right)}$"
      ],
      "text/plain": [
       "x**4 + 6*x**2 + 9*log(x)"
      ]
     },
     "execution_count": 52,
     "metadata": {},
     "output_type": "execute_result"
    }
   ],
   "source": [
    "f = (2*x**2 + 3)**2 / x\n",
    "integral = sym.integrate(f, x)\n",
    "integral"
   ]
  },
  {
   "cell_type": "code",
   "execution_count": 53,
   "metadata": {},
   "outputs": [
    {
     "data": {
      "text/latex": [
       "$\\displaystyle x + \\frac{4 \\log{\\left(3 x - 2 \\right)}}{3}$"
      ],
      "text/plain": [
       "x + 4*log(3*x - 2)/3"
      ]
     },
     "execution_count": 53,
     "metadata": {},
     "output_type": "execute_result"
    }
   ],
   "source": [
    "f = (3*x + 2) / (3*x - 2)\n",
    "integral = sym.integrate(f, x)\n",
    "integral"
   ]
  },
  {
   "cell_type": "code",
   "execution_count": 54,
   "metadata": {},
   "outputs": [
    {
     "data": {
      "text/latex": [
       "$\\displaystyle \\frac{x^{2} e^{x} \\sin{\\left(x \\right)}}{2} + \\frac{x^{2} e^{x} \\cos{\\left(x \\right)}}{2} - x e^{x} \\sin{\\left(x \\right)} + \\frac{e^{x} \\sin{\\left(x \\right)}}{2} - \\frac{e^{x} \\cos{\\left(x \\right)}}{2}$"
      ],
      "text/plain": [
       "x**2*exp(x)*sin(x)/2 + x**2*exp(x)*cos(x)/2 - x*exp(x)*sin(x) + exp(x)*sin(x)/2 - exp(x)*cos(x)/2"
      ]
     },
     "execution_count": 54,
     "metadata": {},
     "output_type": "execute_result"
    }
   ],
   "source": [
    "f = x**2 * sym.exp(x) * sym.cos(x)\n",
    "integral = sym.integrate(f, x)\n",
    "integral"
   ]
  },
  {
   "cell_type": "code",
   "execution_count": 55,
   "metadata": {},
   "outputs": [
    {
     "data": {
      "text/latex": [
       "$\\displaystyle \\frac{\\sin^{2}{\\left(x \\right)}}{2}$"
      ],
      "text/plain": [
       "sin(x)**2/2"
      ]
     },
     "execution_count": 55,
     "metadata": {},
     "output_type": "execute_result"
    }
   ],
   "source": [
    "f = sym.sin(x) * sym.cos(x)\n",
    "integral = sym.integrate(f, x)\n",
    "integral"
   ]
  },
  {
   "cell_type": "code",
   "execution_count": 56,
   "metadata": {},
   "outputs": [
    {
     "data": {
      "text/latex": [
       "$\\displaystyle \\frac{x^{3} y}{3} + \\frac{x^{2} y^{4}}{8}$"
      ],
      "text/plain": [
       "x**3*y/3 + x**2*y**4/8"
      ]
     },
     "execution_count": 56,
     "metadata": {},
     "output_type": "execute_result"
    }
   ],
   "source": [
    "f = x**2 + (y**3)*x\n",
    "integral = sym.integrate(f, x)\n",
    "d_integral = sym.integrate(integral, y)\n",
    "d_integral"
   ]
  },
  {
   "cell_type": "markdown",
   "metadata": {},
   "source": [
    "### Definite Integral"
   ]
  },
  {
   "cell_type": "code",
   "execution_count": 57,
   "metadata": {},
   "outputs": [
    {
     "data": {
      "text/latex": [
       "$\\displaystyle 0.207$"
      ],
      "text/plain": [
       "0.207"
      ]
     },
     "execution_count": 57,
     "metadata": {},
     "output_type": "execute_result"
    }
   ],
   "source": [
    "f = sym.sin(x)\n",
    "# first value = bottom value in eq.\n",
    "solution = sym.integrate(f, (x, sym.pi / 4, sym.pi / 3))\n",
    "round(solution.evalf(), 3)"
   ]
  },
  {
   "cell_type": "code",
   "execution_count": 58,
   "metadata": {},
   "outputs": [
    {
     "data": {
      "text/latex": [
       "$\\displaystyle \\frac{64}{3}$"
      ],
      "text/plain": [
       "64/3"
      ]
     },
     "execution_count": 58,
     "metadata": {},
     "output_type": "execute_result"
    }
   ],
   "source": [
    "f = x ** 2\n",
    "integral = sym.integrate(f, (x, 0, 4))\n",
    "integral"
   ]
  },
  {
   "cell_type": "code",
   "execution_count": null,
   "metadata": {},
   "outputs": [],
   "source": []
  }
 ],
 "metadata": {
  "kernelspec": {
   "display_name": "Python 3",
   "language": "python",
   "name": "python3"
  },
  "language_info": {
   "codemirror_mode": {
    "name": "ipython",
    "version": 3
   },
   "file_extension": ".py",
   "mimetype": "text/x-python",
   "name": "python",
   "nbconvert_exporter": "python",
   "pygments_lexer": "ipython3",
   "version": "3.8.10"
  }
 },
 "nbformat": 4,
 "nbformat_minor": 4
}
